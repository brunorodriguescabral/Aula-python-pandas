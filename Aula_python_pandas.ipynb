{
  "nbformat": 4,
  "nbformat_minor": 0,
  "metadata": {
    "colab": {
      "provenance": [],
      "authorship_tag": "ABX9TyMvv5zVklM6vrQ8ZzegTJOq",
      "include_colab_link": true
    },
    "kernelspec": {
      "name": "python3",
      "display_name": "Python 3"
    },
    "language_info": {
      "name": "python"
    }
  },
  "cells": [
    {
      "cell_type": "markdown",
      "metadata": {
        "id": "view-in-github",
        "colab_type": "text"
      },
      "source": [
        "<a href=\"https://colab.research.google.com/github/brunorodriguescabral/Aula-python-pandas/blob/main/Aula_python_pandas.ipynb\" target=\"_parent\"><img src=\"https://colab.research.google.com/assets/colab-badge.svg\" alt=\"Open In Colab\"/></a>"
      ]
    },
    {
      "cell_type": "code",
      "execution_count": 1,
      "metadata": {
        "colab": {
          "base_uri": "https://localhost:8080/"
        },
        "id": "azis8ObB7a5d",
        "outputId": "12fa9722-765d-4fac-f5a3-ecaef4351b0b"
      },
      "outputs": [
        {
          "output_type": "stream",
          "name": "stdout",
          "text": [
            "Looking in indexes: https://pypi.org/simple, https://us-python.pkg.dev/colab-wheels/public/simple/\n",
            "Requirement already satisfied: pandas in /usr/local/lib/python3.8/dist-packages (1.3.5)\n",
            "Requirement already satisfied: pytz>=2017.3 in /usr/local/lib/python3.8/dist-packages (from pandas) (2022.7.1)\n",
            "Requirement already satisfied: python-dateutil>=2.7.3 in /usr/local/lib/python3.8/dist-packages (from pandas) (2.8.2)\n",
            "Requirement already satisfied: numpy>=1.17.3 in /usr/local/lib/python3.8/dist-packages (from pandas) (1.21.6)\n",
            "Requirement already satisfied: six>=1.5 in /usr/local/lib/python3.8/dist-packages (from python-dateutil>=2.7.3->pandas) (1.15.0)\n"
          ]
        }
      ],
      "source": [
        "!pip install pandas"
      ]
    },
    {
      "cell_type": "code",
      "source": [
        "import pandas as pd\n",
        "\n",
        "combustiveis_df = pd.read_excel(\"ca-2021-02.xlsx\")"
      ],
      "metadata": {
        "id": "o8fwGDuv77Bx"
      },
      "execution_count": 2,
      "outputs": []
    },
    {
      "cell_type": "code",
      "source": [
        "display(combustiveis_df)"
      ],
      "metadata": {
        "id": "fSDijgzjApSb"
      },
      "execution_count": null,
      "outputs": []
    },
    {
      "cell_type": "code",
      "source": [
        "display(combustiveis_df.head(5))"
      ],
      "metadata": {
        "id": "SPkJAGbgEtPi"
      },
      "execution_count": null,
      "outputs": []
    },
    {
      "cell_type": "code",
      "source": [
        "display(combustiveis_df.describe())"
      ],
      "metadata": {
        "id": "w5RrS244HSHT"
      },
      "execution_count": null,
      "outputs": []
    },
    {
      "cell_type": "code",
      "source": [
        "display(combustiveis_df[\"Municipio\"].head(6))"
      ],
      "metadata": {
        "id": "9WokhUUcKW54"
      },
      "execution_count": null,
      "outputs": []
    },
    {
      "cell_type": "code",
      "source": [
        "display(combustiveis_df.shape)"
      ],
      "metadata": {
        "id": "OqmwSduaTeS4"
      },
      "execution_count": null,
      "outputs": []
    },
    {
      "cell_type": "code",
      "source": [
        "show = combustiveis_df[[\"Revenda\", \"Produto\", \"Valor de Venda\"]]\n",
        "display(show.head(7))"
      ],
      "metadata": {
        "id": "c7zheC9CaMGQ"
      },
      "execution_count": null,
      "outputs": []
    },
    {
      "cell_type": "code",
      "source": [
        "display(show.loc[158:162])"
      ],
      "metadata": {
        "id": "JQ01w5S2bZSH"
      },
      "execution_count": null,
      "outputs": []
    },
    {
      "cell_type": "code",
      "source": [
        "gas = show.loc[show[\"Produto\"] == \"GASOLINA\"]\n",
        "display(gas)"
      ],
      "metadata": {
        "id": "IE49B6Sxepyo"
      },
      "execution_count": null,
      "outputs": []
    },
    {
      "cell_type": "code",
      "source": [
        "value = show.loc[show[\"Valor de Venda\"] <= 6].loc[show[\"Produto\"] == \"GASOLINA\"]\n",
        "display(value)"
      ],
      "metadata": {
        "id": "roa_PjWjftaD"
      },
      "execution_count": null,
      "outputs": []
    },
    {
      "cell_type": "code",
      "source": [
        "display(show[\"Valor de Venda\"].max())"
      ],
      "metadata": {
        "id": "tH-yGQm_gZ1F"
      },
      "execution_count": null,
      "outputs": []
    },
    {
      "cell_type": "code",
      "source": [],
      "metadata": {
        "id": "s5imlQhYiMj0"
      },
      "execution_count": null,
      "outputs": []
    }
  ]
}